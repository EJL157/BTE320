{
  "nbformat": 4,
  "nbformat_minor": 0,
  "metadata": {
    "colab": {
      "provenance": [],
      "authorship_tag": "ABX9TyORW4lLzW3IG8bIEafjFAAM",
      "include_colab_link": true
    },
    "kernelspec": {
      "name": "python3",
      "display_name": "Python 3"
    },
    "language_info": {
      "name": "python"
    }
  },
  "cells": [
    {
      "cell_type": "markdown",
      "metadata": {
        "id": "view-in-github",
        "colab_type": "text"
      },
      "source": [
        "<a href=\"https://colab.research.google.com/github/EJL157/BTE320/blob/main/320_Assignment_1.ipynb\" target=\"_parent\"><img src=\"https://colab.research.google.com/assets/colab-badge.svg\" alt=\"Open In Colab\"/></a>"
      ]
    },
    {
      "cell_type": "code",
      "source": [
        "pi = 3.14\n",
        "r = 5\n",
        "Area = pi * r ** 2\n",
        "print(\"Area is\", Area, \"square feet.\", sep=\"\",end=\"\")\n",
        "#Can include \"end = ' '\" to change what happens between lines, change from new line to same line with a space, new line would be '\\n'\n",
        "print(\"Area is %.1f square feet\" % Area,end=\"\\n\\n\")\n",
        "#dynamic return of the Area variable\n",
        "print(\"Area is {} square feet\".format(Area))\n",
        "#dynamic return of the Area variable with .format(Area), which pulls Area value into place of {}\n",
        "print(f\"Area is {Area} square feet\")"
      ],
      "metadata": {
        "colab": {
          "base_uri": "https://localhost:8080/"
        },
        "id": "McXHiqzhCi1o",
        "outputId": "73f1ed6e-a12f-4863-bd51-831abf2e1943"
      },
      "execution_count": null,
      "outputs": [
        {
          "output_type": "stream",
          "name": "stdout",
          "text": [
            "Area is78.5square feet.Area is 78.5 square feet\n",
            "\n",
            "Area is 78.5 square feet\n",
            "Area is 78.5 square feet\n"
          ]
        }
      ]
    },
    {
      "cell_type": "code",
      "source": [
        "h = 10\n",
        "r = 3\n",
        "pi = 3.14\n",
        "'''\n",
        "First line\n",
        "Second line\n",
        "Third line\n",
        "'''\n",
        "S = 2*pi*r**2 + 2*pi*r*h\n",
        "print(S)\n",
        "#Sets height, radius, and pi values, then calculates and prints surface area"
      ],
      "metadata": {
        "colab": {
          "base_uri": "https://localhost:8080/",
          "height": 54
        },
        "id": "kD85onAnCzpz",
        "outputId": "2e8e95c3-7f65-4748-f657-7dd975b93f6b"
      },
      "execution_count": null,
      "outputs": [
        {
          "output_type": "stream",
          "name": "stdout",
          "text": [
            "244.92000000000002\n"
          ]
        },
        {
          "output_type": "execute_result",
          "data": {
            "text/plain": [
              "'\\nFirst line\\nSecond line\\nThird line\\n'"
            ],
            "application/vnd.google.colaboratory.intrinsic+json": {
              "type": "string"
            }
          },
          "metadata": {},
          "execution_count": 15
        }
      ]
    },
    {
      "cell_type": "code",
      "source": [
        "pi = 3.14\n",
        "r = float(input(\"Provide a value for the radius (in ft): \"))\n",
        "c = float(input(\"Provide a value for side (in ft): \"))\n",
        "h = float(input(\"Provide a value for height (in ft): \"))\n",
        "#Input by defualt returns a string, add float to fix\n",
        "shape = 'triangle'\n",
        "if shape == 'circle':\n",
        "  Area = pi * r ** 2\n",
        "  print(f\"Area is {Area} square feet\")\n",
        "elif shape == 'square':\n",
        "  Area = c ** 2\n",
        "  print(f\"Area is {Area} square feet\")\n",
        "elif shape == 'triangle':\n",
        "  Area = .5 * c * h\n",
        "  print(f'Area is {Area} square feet')\n",
        "else:\n",
        "  print(\"Invalid shape\")\n",
        "print('Program ends.')"
      ],
      "metadata": {
        "colab": {
          "base_uri": "https://localhost:8080/"
        },
        "id": "wJ7uUX_oeEBJ",
        "outputId": "448d8c2b-2f0d-414b-b98a-f946e55f9d43"
      },
      "execution_count": null,
      "outputs": [
        {
          "output_type": "stream",
          "name": "stdout",
          "text": [
            "Provide a value for the radius (in ft): 8\n",
            "Provide a value for side (in ft): 4\n",
            "Provide a value for height (in ft): 4\n",
            "Area is 8.0 square feet\n",
            "Program ends.\n"
          ]
        }
      ]
    },
    {
      "cell_type": "code",
      "source": [
        "grade = 90\n",
        "if grade > 96:\n",
        "  print(\"A+\")\n",
        "elif grade >= 93:\n",
        "  Print(\"A\")\n",
        "elif grade >= 90:\n",
        "  print(\"A-\")\n",
        "else:\n",
        "  print (\"No A earned\")"
      ],
      "metadata": {
        "colab": {
          "base_uri": "https://localhost:8080/"
        },
        "id": "tnO4mQ8Wg1-a",
        "outputId": "0089f6af-a909-4930-f5eb-8b2c186a4632"
      },
      "execution_count": null,
      "outputs": [
        {
          "output_type": "stream",
          "name": "stdout",
          "text": [
            "A-\n"
          ]
        }
      ]
    },
    {
      "cell_type": "code",
      "source": [
        "amount = float(input('Give initial amount ($): '))\n",
        "n_years = float(input('Give number of years of investment: '))\n",
        "customer_type = input(\"Type of customer (n->new, e->existing): \")\n",
        "\n",
        "if amount > 10000 and customer_type == 'e':\n",
        "  rate = 0.035\n",
        "elif amount > 1000 and customer_type == 'e':\n",
        "  rate = 0.0325\n",
        "elif customer_type = 'e':\n",
        "  rate = 0.03\n",
        "else:\n",
        "  rate = 0.04\n",
        "return_amount = (1 + rate) ** n_years * amount\n",
        "print(f\"Return amount is ${return_amount}.\")"
      ],
      "metadata": {
        "colab": {
          "base_uri": "https://localhost:8080/"
        },
        "id": "-MeN1WMQhC7H",
        "outputId": "55401f8f-2af4-4ab6-8928-97f3bffe6140"
      },
      "execution_count": null,
      "outputs": [
        {
          "output_type": "stream",
          "name": "stdout",
          "text": [
            "Give initial amount ($): 1000\n",
            "Give number of years of investment: 5\n",
            "Return amount is $1159.2740743000002.\n"
          ]
        }
      ]
    },
    {
      "cell_type": "code",
      "source": [
        "import random\n",
        "Game = input(\"Do you want to play a game? \").capitalize()\n",
        "while(Game == 'Yes'):\n",
        "  Person1 = input(\"Person 1 - Rock, Paper, or Scissors: \").capitalize()\n",
        "  Person2 = random.choice(['Rock', 'Paper', 'Scissors'])\n",
        "  if(Person1 == Person2):\n",
        "    print(\"Draw\")\n",
        "  elif ((Person1 == 'Rock' and Person2 == 'Scissors')\n",
        "        or (Person1 == 'Scissors' and Person2 == 'Paper')\n",
        "        or (Person1 == 'Paper' and Person2 == 'Rock')):\n",
        "    print(\"Person 1 wins\")\n",
        "  else:\n",
        "    print(\"Person 2 wins\")\n",
        "  Game = input(\"Do you want to play a game? \").capitalize()\n"
      ],
      "metadata": {
        "id": "x8njAGD0Las8"
      },
      "execution_count": null,
      "outputs": []
    },
    {
      "cell_type": "code",
      "source": [
        "num1 = float(input(\"What is your first number: \"))\n",
        "num2 = float(input(\"What is your second number: \"))\n",
        "operation = input(\"What symbol would you like: \")\n",
        "if operation == '+':\n",
        "  print(num1 + num2)\n",
        "elif operation == '-':\n",
        "  print(num1-num2)\n",
        "elif operation == '*':\n",
        "  print(num1*num2)\n",
        "elif operation == '/':\n",
        "  print(num1/num2)\n",
        "elif operation == '**':\n",
        "  print(num1**num2)\n",
        "else:\n",
        "  print(\"Invalid operation.\")"
      ],
      "metadata": {
        "colab": {
          "base_uri": "https://localhost:8080/"
        },
        "id": "uHxgS1WvXlMD",
        "outputId": "e3a2d6e8-5f59-41aa-9d56-e0896b70ef0c"
      },
      "execution_count": null,
      "outputs": [
        {
          "output_type": "stream",
          "name": "stdout",
          "text": [
            "What is your first number: 10\n",
            "What is your second number: 5\n",
            "What symbol would you like: **\n",
            "100000.0\n"
          ]
        }
      ]
    },
    {
      "cell_type": "code",
      "source": [
        "Charge = 5.0\n",
        "Rate = 2.50\n",
        "MinCharge = 10.0\n",
        "MaxCharge = 20.0\n",
        "Amount = 0\n",
        "for hour in range(1, 9, 1):\n",
        "  Amount = min(max(Charge + Rate*hour,MinCharge),MaxCharge)\n",
        "  print(f'{i} {Amount}')\n",
        "\n"
      ],
      "metadata": {
        "colab": {
          "base_uri": "https://localhost:8080/"
        },
        "id": "5k9xlXLVaFQ-",
        "outputId": "050f47de-e5a6-40bd-8f9a-c8662a61f2c0"
      },
      "execution_count": null,
      "outputs": [
        {
          "output_type": "stream",
          "name": "stdout",
          "text": [
            "8 10.0\n",
            "8 10.0\n",
            "8 12.5\n",
            "8 15.0\n",
            "8 17.5\n",
            "8 20.0\n",
            "8 20.0\n",
            "8 20.0\n"
          ]
        }
      ]
    },
    {
      "cell_type": "code",
      "source": [
        "Ticket = 10\n",
        "BasePeople = 20\n",
        "Fixed = 200\n",
        "print('Ad$',end=' ')\n",
        "print('profit')\n",
        "for AdSpend in range(0, 201, 25):\n",
        "  profit = Ticket*BasePeople + Ticket*(2*round(AdSpend**0.5)) - Fixed - AdSpend\n",
        "  print(f'{AdSpend} {profit}')"
      ],
      "metadata": {
        "colab": {
          "base_uri": "https://localhost:8080/"
        },
        "id": "BvJYqBsM9B02",
        "outputId": "68d6114a-262b-47ab-89c7-7903654b94b4"
      },
      "execution_count": null,
      "outputs": [
        {
          "output_type": "stream",
          "name": "stdout",
          "text": [
            "Ad$ profit\n",
            "0 0\n",
            "25 75\n",
            "50 90\n",
            "75 105\n",
            "100 100\n",
            "125 95\n",
            "150 90\n",
            "175 85\n",
            "200 80\n"
          ]
        }
      ]
    },
    {
      "cell_type": "code",
      "source": [
        "Ticket = 10\n",
        "BasePeople = 20\n",
        "Fixed = 200\n",
        "OptimalSpend = 0\n",
        "MaxProfit = 0\n",
        "print('Ad$',end=' ')\n",
        "print('profit')\n",
        "for AdSpend in range(0, 201, 25):\n",
        "  profit = Ticket*BasePeople + Ticket*(2*round(AdSpend**0.5)) - Fixed - AdSpend\n",
        "  print(f'{AdSpend} {profit}')\n",
        "  if profit > MaxProfit:\n",
        "    MaxProfit = profit\n",
        "    OptimalSpend = AdSpend\n",
        "print(f'Optimal Spend is ${OptimalSpend}')\n",
        "print(f'Max profit is ${MaxProfit}')"
      ],
      "metadata": {
        "colab": {
          "base_uri": "https://localhost:8080/"
        },
        "id": "hJ-SQeRh9HTv",
        "outputId": "04d7d4e6-9e73-4dd8-e552-2f24411564b9"
      },
      "execution_count": null,
      "outputs": [
        {
          "output_type": "stream",
          "name": "stdout",
          "text": [
            "Ad$ profit\n",
            "0 0\n",
            "25 75\n",
            "50 90\n",
            "75 105\n",
            "100 100\n",
            "125 95\n",
            "150 90\n",
            "175 85\n",
            "200 80\n",
            "Optimal Spend is $75\n",
            "Max profit is $105\n"
          ]
        }
      ]
    },
    {
      "cell_type": "code",
      "source": [
        "months = {}\n",
        "\n",
        "names = [\"Jan\", \"Feb\",\"Mar\",\"Apr\",\"May\",\"Jun\",\"Jul\",\"Aug\",\"Sep\",\"Oct\",\"Nov\",\"Dec\"]\n",
        "numbers = [1,2,3,4,5,6,7,8,9,10,11,12]\n",
        "\n",
        "for i in range(len(numbers)):\n",
        "  months[numbers[i]] = names[i]\n",
        "\n",
        "print(months)\n",
        "for key, value in months.items():\n",
        "  print(key, value)"
      ],
      "metadata": {
        "colab": {
          "base_uri": "https://localhost:8080/"
        },
        "id": "wV2sUz_ZWH7G",
        "outputId": "b38668fd-b4b3-4818-9cef-c90cfc2f9410"
      },
      "execution_count": null,
      "outputs": [
        {
          "output_type": "stream",
          "name": "stdout",
          "text": [
            "{1: 'Jan', 2: 'Feb', 3: 'Mar', 4: 'Apr', 5: 'May', 6: 'Jun', 7: 'Jul', 8: 'Aug', 9: 'Sep', 10: 'Oct', 11: 'Nov', 12: 'Dec'}\n",
            "1 Jan\n",
            "2 Feb\n",
            "3 Mar\n",
            "4 Apr\n",
            "5 May\n",
            "6 Jun\n",
            "7 Jul\n",
            "8 Aug\n",
            "9 Sep\n",
            "10 Oct\n",
            "11 Nov\n",
            "12 Dec\n"
          ]
        }
      ]
    },
    {
      "cell_type": "code",
      "source": [
        "def displayFee(fee):\n",
        "  print(fee)\n",
        "\n",
        "def calcFee(hours, decimals=2):\n",
        "  fee = round(5 + hours * 2.5, decimals)\n",
        "  return fee\n",
        "\n",
        "def main():\n",
        "  hours_parked = int(input(\"Enter hours for parking: \"))\n",
        "  f = calcFee(hours_parked)\n",
        "  x = displayFee(f)\n",
        "\n",
        "if __name__ == \"__main__\":\n",
        "  main()"
      ],
      "metadata": {
        "colab": {
          "base_uri": "https://localhost:8080/"
        },
        "id": "YnM_BxFy38r8",
        "outputId": "c1197e6f-26ba-42cd-b463-936f817e4638"
      },
      "execution_count": null,
      "outputs": [
        {
          "output_type": "stream",
          "name": "stdout",
          "text": [
            "Enter hours for parking: 4\n",
            "15.0\n"
          ]
        }
      ]
    },
    {
      "cell_type": "code",
      "source": [
        "def rev(s):\n",
        "  if len(s) == 1:\n",
        "    return s\n",
        "  else:\n",
        "    return s[-1] + rev(s[:-1])\n",
        "s = 'World'\n",
        "rev(s)"
      ],
      "metadata": {
        "colab": {
          "base_uri": "https://localhost:8080/",
          "height": 42
        },
        "id": "f4paCt12k-Wg",
        "outputId": "7b2f2c95-ff71-4916-c5ae-fed9636082d3"
      },
      "execution_count": null,
      "outputs": [
        {
          "output_type": "execute_result",
          "data": {
            "text/plain": [
              "'dlroW'"
            ],
            "application/vnd.google.colaboratory.intrinsic+json": {
              "type": "string"
            }
          },
          "metadata": {},
          "execution_count": 5
        }
      ]
    },
    {
      "cell_type": "code",
      "source": [
        "#Weighted average\n",
        "def wAvg(L, W):\n",
        "  res = []\n",
        "  try:\n",
        "    for i in range(0,len(L)):\n",
        "      res.append(L[i]*W[i])\n",
        "    return sum(res) / sum(W)\n",
        "  except ZeroDivisionError:\n",
        "    print(\"Division by zero\")\n",
        "    return []\n",
        "  except TypeError:\n",
        "    print(\"Non-numerical object found\")\n",
        "    return []\n",
        "  except Exception as e:\n",
        "    print(f\"Unkown error {e}\")\n",
        "wAvg([1,2,3],[])"
      ],
      "metadata": {
        "id": "N0bfBYGdlq1j",
        "colab": {
          "base_uri": "https://localhost:8080/"
        },
        "outputId": "5f40eaf1-d188-4852-d481-99ea768e6a2f"
      },
      "execution_count": 23,
      "outputs": [
        {
          "output_type": "stream",
          "name": "stdout",
          "text": [
            "Division by zero\n"
          ]
        },
        {
          "output_type": "execute_result",
          "data": {
            "text/plain": [
              "[]"
            ]
          },
          "metadata": {},
          "execution_count": 23
        }
      ]
    },
    {
      "cell_type": "code",
      "source": [
        "class Student:\n",
        "  def __init__(self, name, number):\n",
        "    self.name = name\n",
        "    self.number = number\n",
        "\n",
        "  def __str__(self):\n",
        "    return f'Name: {self.name}'"
      ],
      "metadata": {
        "id": "9QZ3_ELY2yGD"
      },
      "execution_count": 2,
      "outputs": []
    },
    {
      "cell_type": "code",
      "source": [
        "S1 = Student('James Bond', '007')\n",
        "S2 = Student('Clark Kent', '333')"
      ],
      "metadata": {
        "id": "oaXJmzVx7MQ2"
      },
      "execution_count": 4,
      "outputs": []
    },
    {
      "cell_type": "code",
      "source": [
        "print(S1)\n",
        "print(S2)"
      ],
      "metadata": {
        "colab": {
          "base_uri": "https://localhost:8080/"
        },
        "id": "T701-Gbo7RUV",
        "outputId": "36cb17d9-6e6b-4bcb-d3ef-4e804da76c59"
      },
      "execution_count": 5,
      "outputs": [
        {
          "output_type": "stream",
          "name": "stdout",
          "text": [
            "Name: James Bond\n",
            "Name: Clark Kent\n"
          ]
        }
      ]
    }
  ]
}