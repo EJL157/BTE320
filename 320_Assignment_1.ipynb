{
  "nbformat": 4,
  "nbformat_minor": 0,
  "metadata": {
    "colab": {
      "provenance": [],
      "authorship_tag": "ABX9TyMvOUfQUH+Le+8UTopzAS9A",
      "include_colab_link": true
    },
    "kernelspec": {
      "name": "python3",
      "display_name": "Python 3"
    },
    "language_info": {
      "name": "python"
    }
  },
  "cells": [
    {
      "cell_type": "markdown",
      "metadata": {
        "id": "view-in-github",
        "colab_type": "text"
      },
      "source": [
        "<a href=\"https://colab.research.google.com/github/EJL157/BTE320/blob/main/320_Assignment_1.ipynb\" target=\"_parent\"><img src=\"https://colab.research.google.com/assets/colab-badge.svg\" alt=\"Open In Colab\"/></a>"
      ]
    },
    {
      "cell_type": "code",
      "source": [
        "pi = 3.14\n",
        "r = float(input(\"Provide a value for the radius (in ft): \"))\n",
        "c = float(input(\"Provide a value for side (in ft): \"))\n",
        "h = float(input(\"Provide a value for height (in ft): \"))\n",
        "#Input by defualt returns a string, add float to fix\n",
        "shape = input('Please provide your shape: ')\n",
        "if shape == 'circle':\n",
        "  Area = pi * r ** 2\n",
        "  print(f\"Area is {Area} square feet\")\n",
        "elif shape == 'square':\n",
        "  Area = c ** 2\n",
        "  print(f\"Area is {Area} square feet\")\n",
        "elif shape == 'triangle':\n",
        "  Area = .5 * c * h\n",
        "  print(f'Area is {Area} square feet')\n",
        "else:\n",
        "  print(\"Invalid shape\")"
      ],
      "metadata": {
        "colab": {
          "base_uri": "https://localhost:8080/"
        },
        "id": "wJ7uUX_oeEBJ",
        "outputId": "1a3e9e2f-636f-4a09-a86b-55d83abc77e6"
      },
      "execution_count": 4,
      "outputs": [
        {
          "output_type": "stream",
          "name": "stdout",
          "text": [
            "Provide a value for the radius (in ft): 4\n",
            "Provide a value for side (in ft): 2\n",
            "Provide a value for height (in ft): 3\n",
            "Please provide your shape: triangle\n",
            "Area is 3.0 square feet\n"
          ]
        }
      ]
    },
    {
      "cell_type": "code",
      "source": [
        "import random\n",
        "Game = input(\"Do you want to play a game? \").capitalize()\n",
        "while(Game == 'Yes'):\n",
        "  Person1 = input(\"Person 1 - Rock, Paper, or Scissors: \").capitalize()\n",
        "  Person2 = random.choice(['Rock', 'Paper', 'Scissors'])\n",
        "  if(Person1 == Person2):\n",
        "    print(\"Draw\")\n",
        "  elif ((Person1 == 'Rock' and Person2 == 'Scissors')\n",
        "        or (Person1 == 'Scissors' and Person2 == 'Paper')\n",
        "        or (Person1 == 'Paper' and Person2 == 'Rock')):\n",
        "    print(\"Person 1 wins\")\n",
        "  else:\n",
        "    print(\"Person 2 wins\")\n",
        "  Game = input(\"Do you want to play a game? \").capitalize()\n"
      ],
      "metadata": {
        "id": "x8njAGD0Las8",
        "colab": {
          "base_uri": "https://localhost:8080/"
        },
        "outputId": "73321783-6509-4127-de72-eec2762792a6"
      },
      "execution_count": 9,
      "outputs": [
        {
          "name": "stdout",
          "output_type": "stream",
          "text": [
            "Do you want to play a game? Yes\n",
            "Person 1 - Rock, Paper, or Scissors: Scissors\n",
            "Person 2 wins\n",
            "Do you want to play a game? No\n"
          ]
        }
      ]
    },
    {
      "cell_type": "code",
      "source": [
        "num1 = float(input(\"What is your first number: \"))\n",
        "num2 = float(input(\"What is your second number: \"))\n",
        "operation = input(\"What symbol would you like: \")\n",
        "if operation == '+':\n",
        "  print(num1 + num2)\n",
        "elif operation == '-':\n",
        "  print(num1-num2)\n",
        "elif operation == '*':\n",
        "  print(num1*num2)\n",
        "elif operation == '/':\n",
        "  print(num1/num2)\n",
        "elif operation == '**':\n",
        "  print(num1**num2)\n",
        "else:\n",
        "  print(\"Invalid operation.\")"
      ],
      "metadata": {
        "colab": {
          "base_uri": "https://localhost:8080/"
        },
        "id": "uHxgS1WvXlMD",
        "outputId": "e3a2d6e8-5f59-41aa-9d56-e0896b70ef0c"
      },
      "execution_count": null,
      "outputs": [
        {
          "output_type": "stream",
          "name": "stdout",
          "text": [
            "What is your first number: 10\n",
            "What is your second number: 5\n",
            "What symbol would you like: **\n",
            "100000.0\n"
          ]
        }
      ]
    },
    {
      "cell_type": "code",
      "source": [
        "Charge = 5.0\n",
        "Rate = 2.50\n",
        "MinCharge = 10.0\n",
        "MaxCharge = 20.0\n",
        "Amount = 0\n",
        "for hour in range(1, 9, 1):\n",
        "  Amount = min(max(Charge + Rate*hour,MinCharge),MaxCharge)\n",
        "  print(f'{hour} {Amount}')"
      ],
      "metadata": {
        "colab": {
          "base_uri": "https://localhost:8080/"
        },
        "id": "5k9xlXLVaFQ-",
        "outputId": "da38d660-f8b1-4781-da4d-da1fe0c0c730"
      },
      "execution_count": 6,
      "outputs": [
        {
          "output_type": "stream",
          "name": "stdout",
          "text": [
            "1 10.0\n",
            "2 10.0\n",
            "3 12.5\n",
            "4 15.0\n",
            "5 17.5\n",
            "6 20.0\n",
            "7 20.0\n",
            "8 20.0\n"
          ]
        }
      ]
    },
    {
      "cell_type": "code",
      "source": [
        "Ticket = 10\n",
        "BasePeople = 20\n",
        "Fixed = 200\n",
        "OptimalSpend = 0\n",
        "MaxProfit = 0\n",
        "print('Ad$',end=' ')\n",
        "print('profit')\n",
        "for AdSpend in range(0, 201, 25):\n",
        "  profit = Ticket*BasePeople + Ticket*(2*round(AdSpend**0.5)) - Fixed - AdSpend\n",
        "  print(f'{AdSpend} {profit}')\n",
        "  if profit > MaxProfit:\n",
        "    MaxProfit = profit\n",
        "    OptimalSpend = AdSpend\n",
        "print(f'Optimal Spend is ${OptimalSpend}')\n",
        "print(f'Max profit is ${MaxProfit}')"
      ],
      "metadata": {
        "colab": {
          "base_uri": "https://localhost:8080/"
        },
        "id": "hJ-SQeRh9HTv",
        "outputId": "04d7d4e6-9e73-4dd8-e552-2f24411564b9"
      },
      "execution_count": null,
      "outputs": [
        {
          "output_type": "stream",
          "name": "stdout",
          "text": [
            "Ad$ profit\n",
            "0 0\n",
            "25 75\n",
            "50 90\n",
            "75 105\n",
            "100 100\n",
            "125 95\n",
            "150 90\n",
            "175 85\n",
            "200 80\n",
            "Optimal Spend is $75\n",
            "Max profit is $105\n"
          ]
        }
      ]
    },
    {
      "cell_type": "code",
      "source": [
        "months = {}\n",
        "\n",
        "names = [\"Jan\", \"Feb\",\"Mar\",\"Apr\",\"May\",\"Jun\",\"Jul\",\"Aug\",\"Sep\",\"Oct\",\"Nov\",\"Dec\"]\n",
        "numbers = [1,2,3,4,5,6,7,8,9,10,11,12]\n",
        "\n",
        "for i in range(len(numbers)):\n",
        "  months[numbers[i]] = names[i]\n",
        "\n",
        "print(months)\n",
        "for key, value in months.items():\n",
        "  print(key, value)"
      ],
      "metadata": {
        "colab": {
          "base_uri": "https://localhost:8080/"
        },
        "id": "wV2sUz_ZWH7G",
        "outputId": "b38668fd-b4b3-4818-9cef-c90cfc2f9410"
      },
      "execution_count": null,
      "outputs": [
        {
          "output_type": "stream",
          "name": "stdout",
          "text": [
            "{1: 'Jan', 2: 'Feb', 3: 'Mar', 4: 'Apr', 5: 'May', 6: 'Jun', 7: 'Jul', 8: 'Aug', 9: 'Sep', 10: 'Oct', 11: 'Nov', 12: 'Dec'}\n",
            "1 Jan\n",
            "2 Feb\n",
            "3 Mar\n",
            "4 Apr\n",
            "5 May\n",
            "6 Jun\n",
            "7 Jul\n",
            "8 Aug\n",
            "9 Sep\n",
            "10 Oct\n",
            "11 Nov\n",
            "12 Dec\n"
          ]
        }
      ]
    },
    {
      "cell_type": "code",
      "source": [
        "def displayFee(fee):\n",
        "  print(fee)\n",
        "\n",
        "def calcFee(hours, decimals=2):\n",
        "  fee = round(5 + hours * 2.5, decimals)\n",
        "  return fee\n",
        "\n",
        "def main():\n",
        "  hours_parked = int(input(\"Enter hours for parking: \"))\n",
        "  f = calcFee(hours_parked)\n",
        "  x = displayFee(f)\n",
        "\n",
        "if __name__ == \"__main__\":\n",
        "  main()"
      ],
      "metadata": {
        "colab": {
          "base_uri": "https://localhost:8080/"
        },
        "id": "YnM_BxFy38r8",
        "outputId": "c1197e6f-26ba-42cd-b463-936f817e4638"
      },
      "execution_count": null,
      "outputs": [
        {
          "output_type": "stream",
          "name": "stdout",
          "text": [
            "Enter hours for parking: 4\n",
            "15.0\n"
          ]
        }
      ]
    },
    {
      "cell_type": "code",
      "source": [
        "def rev(s):\n",
        "  if len(s) == 1:\n",
        "    return s\n",
        "  else:\n",
        "    return s[-1] + rev(s[:-1])\n",
        "s = 'World'\n",
        "rev(s)"
      ],
      "metadata": {
        "colab": {
          "base_uri": "https://localhost:8080/",
          "height": 42
        },
        "id": "f4paCt12k-Wg",
        "outputId": "7b2f2c95-ff71-4916-c5ae-fed9636082d3"
      },
      "execution_count": null,
      "outputs": [
        {
          "output_type": "execute_result",
          "data": {
            "text/plain": [
              "'dlroW'"
            ],
            "application/vnd.google.colaboratory.intrinsic+json": {
              "type": "string"
            }
          },
          "metadata": {},
          "execution_count": 5
        }
      ]
    },
    {
      "cell_type": "code",
      "source": [
        "class Student:\n",
        "  def __init__(self, name, number):\n",
        "    self.name = name\n",
        "    self.number = number\n",
        "\n",
        "  def __str__(self):\n",
        "    return f'Name: {self.name}'"
      ],
      "metadata": {
        "id": "9QZ3_ELY2yGD"
      },
      "execution_count": null,
      "outputs": []
    },
    {
      "cell_type": "code",
      "source": [
        "S1 = Student('James Bond', '007')\n",
        "S2 = Student('Clark Kent', '333')"
      ],
      "metadata": {
        "id": "oaXJmzVx7MQ2"
      },
      "execution_count": null,
      "outputs": []
    },
    {
      "cell_type": "code",
      "source": [
        "print(S1)\n",
        "print(S2)"
      ],
      "metadata": {
        "colab": {
          "base_uri": "https://localhost:8080/"
        },
        "id": "T701-Gbo7RUV",
        "outputId": "36cb17d9-6e6b-4bcb-d3ef-4e804da76c59"
      },
      "execution_count": null,
      "outputs": [
        {
          "output_type": "stream",
          "name": "stdout",
          "text": [
            "Name: James Bond\n",
            "Name: Clark Kent\n"
          ]
        }
      ]
    }
  ]
}